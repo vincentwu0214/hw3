{
 "cells": [
  {
   "cell_type": "code",
   "execution_count": 106,
   "metadata": {
    "collapsed": true
   },
   "outputs": [],
   "source": [
    "import requests\n",
    "from bs4 import BeautifulSoup"
   ]
  },
  {
   "cell_type": "code",
   "execution_count": 107,
   "metadata": {
    "collapsed": true
   },
   "outputs": [],
   "source": [
    "url = \"https://news.cnyes.com/news/id/3972130?exp=b\""
   ]
  },
  {
   "cell_type": "code",
   "execution_count": 108,
   "metadata": {
    "collapsed": true
   },
   "outputs": [],
   "source": [
    "r = requests.get(url)\n",
    "r.encoding = \"UTF-8\""
   ]
  },
  {
   "cell_type": "code",
   "execution_count": 109,
   "metadata": {},
   "outputs": [
    {
     "name": "stdout",
     "output_type": "stream",
     "text": [
      "貴金屬專家 Rick Rule 認為，雖然比特幣今年的投資熱度似乎勝過黃金，但他建議投資人不要因為這類「不要緊的事」而分心。\n",
      "比特幣與黃金的論辨對 Sprott U.S. Holdings 執行長兼總裁 Rick Rule 這樣的人來說向來存在優勢，而他每次都選擇黃金。\n",
      "Rick Rule 出席舊金山「白銀與黃金峰會」 (Silver and Gold Summit) 時接受《Kitco News》訪問表示，他盼人們會繼續於 2018 年將黃金與比特幣做比較。\n",
      "「人們愈是關注不要緊的事，某些像我這樣的老人家就更有機會去競爭... 」 Rick Rule 表示：「所以，市場人士為這類無關緊要的事分心的事實，其實對我而言非常有利。如果問我是否會對此感到厭倦，我的回答是不會，我從來不會對持久的競爭優勢感到倦怠。」\n",
      "Rick Rule 進一步說明，黃金並非投機型投資，意味它總是一個比較無趣的投資，但正是那樣的特質造就黃金的吸引力。\n",
      "「如果我是位投機客，我不會追求黃金，因為就投機觀點來說黃金並不刺激。就投資觀點而言，或是像我將持有實體黃金作為保險來說，黃金發揮其效用且保持它的購買力。但更重要的是，黃金股料也將有不錯表現。」\n",
      "Rick Rule 坦承近來投資人相對於黃金，似乎不是選擇股票就是比特幣，但他認為潛力買主應專注在其他事物上，「這或許對黃金有負面影響，但我認為投資應注意到更重要的事，例如企業賺錢能力與表現是否超出預期。而現在市場人士忽略的是，黃金 2018 年的市場預估如此低，因此要超出市場預期幾乎不會太難。」\n",
      "\n"
     ]
    }
   ],
   "source": [
    "soup = BeautifulSoup(r.text,\"lxml\")\n",
    "news_text = soup.select(\"div[itemprop=articleBody]\")[0].text\n",
    "print(news_text)"
   ]
  },
  {
   "cell_type": "code",
   "execution_count": 110,
   "metadata": {},
   "outputs": [
    {
     "name": "stdout",
     "output_type": "stream",
     "text": [
      "貴金屬專家 Rick Rule 認為，雖然比特幣今年的投資熱度似乎勝過黃金，但他建議投資人不要因為這類「不要緊的事」而分心。\n"
     ]
    }
   ],
   "source": [
    "news_summary = soup.p.string\n",
    "print(news_summary)"
   ]
  },
  {
   "cell_type": "code",
   "execution_count": 111,
   "metadata": {
    "collapsed": true
   },
   "outputs": [],
   "source": [
    "import jieba\n",
    "import jieba.analyse"
   ]
  },
  {
   "cell_type": "code",
   "execution_count": 112,
   "metadata": {},
   "outputs": [],
   "source": [
    "jieba.set_dictionary('dict.txt.big')"
   ]
  },
  {
   "cell_type": "markdown",
   "metadata": {},
   "source": [
    "把新聞中出現機率前15高的關鍵字選出"
   ]
  },
  {
   "cell_type": "code",
   "execution_count": 113,
   "metadata": {},
   "outputs": [
    {
     "name": "stderr",
     "output_type": "stream",
     "text": [
      "Building prefix dict from C:\\Users\\Administrator\\dict.txt.big ...\n",
      "Loading model from cache C:\\Users\\ADMINI~1\\AppData\\Local\\Temp\\jieba.u61d4dbaee3cd1eb7c16c56cae7b5e21d.cache\n",
      "Loading model cost 1.677 seconds.\n",
      "Prefix dict has been built succesfully.\n"
     ]
    }
   ],
   "source": [
    "keywords = jieba.analyse.extract_tags(news_text, topK=15, withWeight=False)"
   ]
  },
  {
   "cell_type": "code",
   "execution_count": 114,
   "metadata": {},
   "outputs": [
    {
     "name": "stdout",
     "output_type": "stream",
     "text": [
      "黃金/ Rick/ Rule/ 投資/ 市場/ 比特/ 認為/ 來說/ 不會/ 投機/ 投資人/ 因為/ 這類/ 不要緊/ 這樣\n"
     ]
    }
   ],
   "source": [
    "print (\"/ \".join(keywords))"
   ]
  },
  {
   "cell_type": "markdown",
   "metadata": {},
   "source": [
    "用repr的用法顯示出關鍵字程式碼運行的機率"
   ]
  },
  {
   "cell_type": "code",
   "execution_count": 115,
   "metadata": {},
   "outputs": [
    {
     "name": "stdout",
     "output_type": "stream",
     "text": [
      "[('黃金', 0.8877302601163366), ('Rick', 0.35509210404653463), ('Rule', 0.35509210404653463), ('投資', 0.2959100867054455), ('市場', 0.23672806936435642), ('比特', 0.20322953449900988), ('認為', 0.17754605202326731), ('來說', 0.17754605202326731), ('不會', 0.17754605202326731), ('投機', 0.17754605202326731), ('投資人', 0.11836403468217821), ('因為', 0.11836403468217821), ('這類', 0.11836403468217821), ('不要緊', 0.11836403468217821), ('這樣', 0.11836403468217821)]\n"
     ]
    }
   ],
   "source": [
    "print( repr(jieba.analyse.extract_tags(news_text, topK=15, withWeight=True)))"
   ]
  },
  {
   "cell_type": "markdown",
   "metadata": {},
   "source": [
    "用同上方式把出現機率前5高的關鍵字列出"
   ]
  },
  {
   "cell_type": "markdown",
   "metadata": {},
   "source": [
    "建立一個函式，利用index 跟enumerate的關係 可以快速列出來"
   ]
  },
  {
   "cell_type": "code",
   "execution_count": 129,
   "metadata": {},
   "outputs": [
    {
     "name": "stdout",
     "output_type": "stream",
     "text": [
      "[('能力', 1.0), ('是否', 0.9953395376939036), ('造就', 0.6777660015100093), ('持有', 0.6777660015100093), ('效用', 0.6777660015100093)]\n"
     ]
    }
   ],
   "source": [
    "print (repr(jieba.analyse.textrank(news_text, topK=5, withWeight=True)))"
   ]
  },
  {
   "cell_type": "code",
   "execution_count": 117,
   "metadata": {
    "collapsed": true
   },
   "outputs": [],
   "source": [
    "def index_of_keyword(sentences, keyword):\n",
    "    for i, s in enumerate(sentences):\n",
    "        if keyword in s:\n",
    "              return i\n",
    "    return -1"
   ]
  },
  {
   "cell_type": "markdown",
   "metadata": {},
   "source": [
    "利用逗點分開句子，將文章隔行刪除"
   ]
  },
  {
   "cell_type": "code",
   "execution_count": 118,
   "metadata": {},
   "outputs": [
    {
     "data": {
      "text/plain": [
       "12"
      ]
     },
     "execution_count": 118,
     "metadata": {},
     "output_type": "execute_result"
    }
   ],
   "source": [
    "sentences = news_text.replace(\"\\n\",\"\").split(u\"。\")\n",
    "len(sentences)"
   ]
  },
  {
   "cell_type": "code",
   "execution_count": 119,
   "metadata": {},
   "outputs": [
    {
     "name": "stdout",
     "output_type": "stream",
     "text": [
      "貴金屬專家 Rick Rule 認為，雖然比特幣今年的投資熱度似乎勝過黃金，但他建議投資人不要因為這類「不要緊的事」而分心。\n",
      "比特幣與黃金的論辨對 Sprott U.S. Holdings 執行長兼總裁 Rick Rule 這樣的人來說向來存在優勢，而他每次都選擇黃金。\n",
      "Rick Rule 出席舊金山「白銀與黃金峰會」 (Silver and Gold Summit) 時接受《Kitco News》訪問表示，他盼人們會繼續於 2018 年將黃金與比特幣做比較。\n",
      "「人們愈是關注不要緊的事，某些像我這樣的老人家就更有機會去競爭... 」 Rick Rule 表示：「所以，市場人士為這類無關緊要的事分心的事實，其實對我而言非常有利。\n",
      "如果問我是否會對此感到厭倦，我的回答是不會，我從來不會對持久的競爭優勢感到倦怠。\n",
      "」Rick Rule 進一步說明，黃金並非投機型投資，意味它總是一個比較無趣的投資，但正是那樣的特質造就黃金的吸引力。\n",
      "「如果我是位投機客，我不會追求黃金，因為就投機觀點來說黃金並不刺激。\n",
      "就投資觀點而言，或是像我將持有實體黃金作為保險來說，黃金發揮其效用且保持它的購買力。\n",
      "但更重要的是，黃金股料也將有不錯表現。\n",
      "」Rick Rule 坦承近來投資人相對於黃金，似乎不是選擇股票就是比特幣，但他認為潛力買主應專注在其他事物上，「這或許對黃金有負面影響，但我認為投資應注意到更重要的事，例如企業賺錢能力與表現是否超出預期。\n",
      "而現在市場人士忽略的是，黃金 2018 年的市場預估如此低，因此要超出市場預期幾乎不會太難。\n",
      "」。\n"
     ]
    }
   ],
   "source": [
    "for sentence in sentences:\n",
    "    print (sentence + u\"。\")"
   ]
  },
  {
   "cell_type": "markdown",
   "metadata": {},
   "source": [
    "找尋字串在第幾行，與總共有多少字"
   ]
  },
  {
   "cell_type": "code",
   "execution_count": 127,
   "metadata": {},
   "outputs": [
    {
     "data": {
      "text/plain": [
       "0"
      ]
     },
     "execution_count": 127,
     "metadata": {},
     "output_type": "execute_result"
    }
   ],
   "source": [
    "index_of_keyword(sentences,u\"黃金\")"
   ]
  },
  {
   "cell_type": "code",
   "execution_count": 128,
   "metadata": {},
   "outputs": [
    {
     "name": "stdout",
     "output_type": "stream",
     "text": [
      "貴金屬專家 Rick Rule 認為，雖然比特幣今年的投資熱度似乎勝過黃金，但他建議投資人不要因為這類「不要緊的事」而分心。\n"
     ]
    }
   ],
   "source": [
    "print (sentences[index_of_keyword(sentences,u\"黃金\")]+u\"。\")"
   ]
  },
  {
   "cell_type": "code",
   "execution_count": 122,
   "metadata": {},
   "outputs": [
    {
     "data": {
      "text/plain": [
       "61"
      ]
     },
     "execution_count": 122,
     "metadata": {},
     "output_type": "execute_result"
    }
   ],
   "source": [
    "len(sentences[0])"
   ]
  },
  {
   "cell_type": "markdown",
   "metadata": {},
   "source": [
    "建立一個空白的字串，利用for迴圈把keyword前三名的字句丟到字串裡\n",
    "再把他轉為索引值"
   ]
  },
  {
   "cell_type": "code",
   "execution_count": 123,
   "metadata": {},
   "outputs": [],
   "source": [
    "s_index = []\n",
    "for keyword in keywords[:3]:\n",
    "    s_index.append(index_of_keyword(sentences,keyword))\n",
    "\n",
    "s_set = set(s_index)\n",
    "s_index = list(s_set)"
   ]
  },
  {
   "cell_type": "markdown",
   "metadata": {},
   "source": [
    "建立一個空白的字串,利用找好的索引值回傳至sentences中,列出該句子,並加入句號"
   ]
  },
  {
   "cell_type": "code",
   "execution_count": 124,
   "metadata": {
    "collapsed": true
   },
   "outputs": [],
   "source": [
    "summary = \"\"\n",
    "for i in s_index:\n",
    "    summary += sentences[i]+u\"。\""
   ]
  },
  {
   "cell_type": "code",
   "execution_count": 125,
   "metadata": {},
   "outputs": [
    {
     "name": "stdout",
     "output_type": "stream",
     "text": [
      "貴金屬專家 Rick Rule 認為，雖然比特幣今年的投資熱度似乎勝過黃金，但他建議投資人不要因為這類「不要緊的事」而分心。\n"
     ]
    }
   ],
   "source": [
    "print (summary)"
   ]
  },
  {
   "cell_type": "code",
   "execution_count": 126,
   "metadata": {},
   "outputs": [
    {
     "name": "stdout",
     "output_type": "stream",
     "text": [
      "貴金屬專家 Rick Rule 認為，雖然比特幣今年的投資熱度似乎勝過黃金，但他建議投資人不要因為這類「不要緊的事」而分心。\n"
     ]
    }
   ],
   "source": [
    "print (news_summary)"
   ]
  },
  {
   "cell_type": "code",
   "execution_count": null,
   "metadata": {
    "collapsed": true
   },
   "outputs": [],
   "source": []
  }
 ],
 "metadata": {
  "kernelspec": {
   "display_name": "Python 3",
   "language": "python",
   "name": "python3"
  },
  "language_info": {
   "codemirror_mode": {
    "name": "ipython",
    "version": 3
   },
   "file_extension": ".py",
   "mimetype": "text/x-python",
   "name": "python",
   "nbconvert_exporter": "python",
   "pygments_lexer": "ipython3",
   "version": "3.6.3"
  }
 },
 "nbformat": 4,
 "nbformat_minor": 2
}
